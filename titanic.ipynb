{
 "cells": [
  {
   "cell_type": "code",
   "execution_count": 1,
   "metadata": {
    "_cell_guid": "b1076dfc-b9ad-4769-8c92-a6c4dae69d19",
    "_uuid": "8f2839f25d086af736a60e9eeb907d3b93b6e0e5",
    "execution": {
     "iopub.execute_input": "2021-02-22T21:09:33.751051Z",
     "iopub.status.busy": "2021-02-22T21:09:33.750199Z",
     "iopub.status.idle": "2021-02-22T21:09:34.885357Z",
     "shell.execute_reply": "2021-02-22T21:09:34.884663Z"
    },
    "papermill": {
     "duration": 1.148286,
     "end_time": "2021-02-22T21:09:34.885571",
     "exception": false,
     "start_time": "2021-02-22T21:09:33.737285",
     "status": "completed"
    },
    "tags": []
   },
   "outputs": [
    {
     "name": "stdout",
     "output_type": "stream",
     "text": [
      "/kaggle/input/titanic/train.csv\n",
      "/kaggle/input/titanic/test.csv\n",
      "/kaggle/input/titanic/gender_submission.csv\n"
     ]
    }
   ],
   "source": [
    "from sklearn.ensemble import RandomForestClassifier\n",
    "import pandas as pd \n",
    "import numpy as np \n",
    "import os\n",
    "for dirname, _, filenames in os.walk('/kaggle/input'):\n",
    "    for filename in filenames:\n",
    "        print(os.path.join(dirname, filename))"
   ]
  },
  {
   "cell_type": "code",
   "execution_count": 2,
   "metadata": {
    "execution": {
     "iopub.execute_input": "2021-02-22T21:09:34.902664Z",
     "iopub.status.busy": "2021-02-22T21:09:34.902025Z",
     "iopub.status.idle": "2021-02-22T21:09:35.012210Z",
     "shell.execute_reply": "2021-02-22T21:09:35.011608Z"
    },
    "papermill": {
     "duration": 0.121163,
     "end_time": "2021-02-22T21:09:35.012357",
     "exception": false,
     "start_time": "2021-02-22T21:09:34.891194",
     "status": "completed"
    },
    "tags": []
   },
   "outputs": [],
   "source": [
    "train_data = pd.read_csv(\"/kaggle/input/titanic/train.csv\")\n",
    "test_data = pd.read_csv(\"/kaggle/input/titanic/test.csv\")"
   ]
  },
  {
   "cell_type": "code",
   "execution_count": 3,
   "metadata": {
    "execution": {
     "iopub.execute_input": "2021-02-22T21:09:35.040709Z",
     "iopub.status.busy": "2021-02-22T21:09:35.035650Z",
     "iopub.status.idle": "2021-02-22T21:09:35.048521Z",
     "shell.execute_reply": "2021-02-22T21:09:35.047810Z"
    },
    "papermill": {
     "duration": 0.031128,
     "end_time": "2021-02-22T21:09:35.048670",
     "exception": false,
     "start_time": "2021-02-22T21:09:35.017542",
     "status": "completed"
    },
    "tags": []
   },
   "outputs": [
    {
     "name": "stdout",
     "output_type": "stream",
     "text": [
      "% of women who survived: 0.7420382165605095\n"
     ]
    }
   ],
   "source": [
    "women = train_data.loc[train_data.Sex == 'female'][\"Survived\"]\n",
    "rate_women = sum(women)/len(women)\n",
    "\n",
    "print(\"% of women who survived:\", rate_women)"
   ]
  },
  {
   "cell_type": "code",
   "execution_count": 4,
   "metadata": {
    "execution": {
     "iopub.execute_input": "2021-02-22T21:09:35.068688Z",
     "iopub.status.busy": "2021-02-22T21:09:35.067940Z",
     "iopub.status.idle": "2021-02-22T21:09:35.072056Z",
     "shell.execute_reply": "2021-02-22T21:09:35.071497Z"
    },
    "papermill": {
     "duration": 0.016211,
     "end_time": "2021-02-22T21:09:35.072207",
     "exception": false,
     "start_time": "2021-02-22T21:09:35.055996",
     "status": "completed"
    },
    "tags": []
   },
   "outputs": [
    {
     "name": "stdout",
     "output_type": "stream",
     "text": [
      "% of men who survived: 0.18890814558058924\n"
     ]
    }
   ],
   "source": [
    "men = train_data.loc[train_data.Sex == 'male'][\"Survived\"]\n",
    "rate_men = sum(men)/len(men)\n",
    "\n",
    "print(\"% of men who survived:\", rate_men)"
   ]
  },
  {
   "cell_type": "code",
   "execution_count": 5,
   "metadata": {
    "execution": {
     "iopub.execute_input": "2021-02-22T21:09:35.107316Z",
     "iopub.status.busy": "2021-02-22T21:09:35.105036Z",
     "iopub.status.idle": "2021-02-22T21:09:35.334475Z",
     "shell.execute_reply": "2021-02-22T21:09:35.334999Z"
    },
    "papermill": {
     "duration": 0.257156,
     "end_time": "2021-02-22T21:09:35.335183",
     "exception": false,
     "start_time": "2021-02-22T21:09:35.078027",
     "status": "completed"
    },
    "tags": []
   },
   "outputs": [
    {
     "name": "stdout",
     "output_type": "stream",
     "text": [
      "Your submission was successfully saved!\n"
     ]
    }
   ],
   "source": [
    "y = train_data[\"Survived\"]\n",
    "\n",
    "features = [\"Pclass\", \"Sex\", \"SibSp\", \"Parch\"]\n",
    "X = pd.get_dummies(train_data[features])\n",
    "X_test = pd.get_dummies(test_data[features])\n",
    "\n",
    "model = RandomForestClassifier(n_estimators=100, max_depth=5, random_state=1)\n",
    "model.fit(X, y)\n",
    "predictions = model.predict(X_test)\n",
    "\n",
    "output = pd.DataFrame({'PassengerId': test_data.PassengerId, 'Survived': predictions})\n",
    "output.to_csv('my_submission.csv', index=False)\n",
    "print(\"Your submission was successfully saved!\")"
   ]
  }
 ],
 "metadata": {
  "kernelspec": {
   "display_name": "Python 3",
   "language": "python",
   "name": "python3"
  },
  "language_info": {
   "codemirror_mode": {
    "name": "ipython",
    "version": 3
   },
   "file_extension": ".py",
   "mimetype": "text/x-python",
   "name": "python",
   "nbconvert_exporter": "python",
   "pygments_lexer": "ipython3",
   "version": "3.7.9"
  },
  "papermill": {
   "default_parameters": {},
   "duration": 7.897051,
   "end_time": "2021-02-22T21:09:35.950744",
   "environment_variables": {},
   "exception": null,
   "input_path": "__notebook__.ipynb",
   "output_path": "__notebook__.ipynb",
   "parameters": {},
   "start_time": "2021-02-22T21:09:28.053693",
   "version": "2.2.2"
  }
 },
 "nbformat": 4,
 "nbformat_minor": 4
}
